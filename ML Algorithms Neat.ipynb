{
 "cells": [
  {
   "cell_type": "markdown",
   "id": "2d8c0618",
   "metadata": {},
   "source": [
    "# Machine Learning Algorithms"
   ]
  },
  {
   "cell_type": "markdown",
   "id": "5bb8ce99",
   "metadata": {},
   "source": [
    "# Simple Linear Regression"
   ]
  },
  {
   "cell_type": "code",
   "execution_count": 1,
   "id": "a76428e8",
   "metadata": {},
   "outputs": [],
   "source": [
    "import numpy as np\n",
    "import matplotlib.pyplot as plt\n",
    "import pandas as pd\n",
    "\n",
    "\n",
    "from sklearn.model_selection import train_test_split\n",
    "from sklearn.feature_extraction.text import TfidfVectorizer\n",
    "from sklearn.metrics import accuracy_score, confusion_matrix\n",
    "\n",
    "from sklearn.linear_model import LogisticRegression\n",
    "from sklearn.linear_model import LinearRegression\n",
    "from sklearn.neighbors import KNeighborsClassifier \n",
    "from sklearn.svm import SVC\n",
    "from sklearn.naive_bayes import GaussianNB\n",
    "from sklearn.tree import DecisionTreeClassifier\n",
    "from sklearn.ensemble import RandomForestClassifier\n",
    "\n",
    "\n",
    "import lightgbm as lgb\n",
    "import xgboost as xgb\n",
    "from catboost import CatBoostClassifier\n",
    "from sklearn.ensemble import AdaBoostClassifier\n"
   ]
  },
  {
   "cell_type": "code",
   "execution_count": 2,
   "id": "49479c3b",
   "metadata": {},
   "outputs": [
    {
     "data": {
      "text/html": [
       "<style>#sk-container-id-1 {color: black;background-color: white;}#sk-container-id-1 pre{padding: 0;}#sk-container-id-1 div.sk-toggleable {background-color: white;}#sk-container-id-1 label.sk-toggleable__label {cursor: pointer;display: block;width: 100%;margin-bottom: 0;padding: 0.3em;box-sizing: border-box;text-align: center;}#sk-container-id-1 label.sk-toggleable__label-arrow:before {content: \"▸\";float: left;margin-right: 0.25em;color: #696969;}#sk-container-id-1 label.sk-toggleable__label-arrow:hover:before {color: black;}#sk-container-id-1 div.sk-estimator:hover label.sk-toggleable__label-arrow:before {color: black;}#sk-container-id-1 div.sk-toggleable__content {max-height: 0;max-width: 0;overflow: hidden;text-align: left;background-color: #f0f8ff;}#sk-container-id-1 div.sk-toggleable__content pre {margin: 0.2em;color: black;border-radius: 0.25em;background-color: #f0f8ff;}#sk-container-id-1 input.sk-toggleable__control:checked~div.sk-toggleable__content {max-height: 200px;max-width: 100%;overflow: auto;}#sk-container-id-1 input.sk-toggleable__control:checked~label.sk-toggleable__label-arrow:before {content: \"▾\";}#sk-container-id-1 div.sk-estimator input.sk-toggleable__control:checked~label.sk-toggleable__label {background-color: #d4ebff;}#sk-container-id-1 div.sk-label input.sk-toggleable__control:checked~label.sk-toggleable__label {background-color: #d4ebff;}#sk-container-id-1 input.sk-hidden--visually {border: 0;clip: rect(1px 1px 1px 1px);clip: rect(1px, 1px, 1px, 1px);height: 1px;margin: -1px;overflow: hidden;padding: 0;position: absolute;width: 1px;}#sk-container-id-1 div.sk-estimator {font-family: monospace;background-color: #f0f8ff;border: 1px dotted black;border-radius: 0.25em;box-sizing: border-box;margin-bottom: 0.5em;}#sk-container-id-1 div.sk-estimator:hover {background-color: #d4ebff;}#sk-container-id-1 div.sk-parallel-item::after {content: \"\";width: 100%;border-bottom: 1px solid gray;flex-grow: 1;}#sk-container-id-1 div.sk-label:hover label.sk-toggleable__label {background-color: #d4ebff;}#sk-container-id-1 div.sk-serial::before {content: \"\";position: absolute;border-left: 1px solid gray;box-sizing: border-box;top: 0;bottom: 0;left: 50%;z-index: 0;}#sk-container-id-1 div.sk-serial {display: flex;flex-direction: column;align-items: center;background-color: white;padding-right: 0.2em;padding-left: 0.2em;position: relative;}#sk-container-id-1 div.sk-item {position: relative;z-index: 1;}#sk-container-id-1 div.sk-parallel {display: flex;align-items: stretch;justify-content: center;background-color: white;position: relative;}#sk-container-id-1 div.sk-item::before, #sk-container-id-1 div.sk-parallel-item::before {content: \"\";position: absolute;border-left: 1px solid gray;box-sizing: border-box;top: 0;bottom: 0;left: 50%;z-index: -1;}#sk-container-id-1 div.sk-parallel-item {display: flex;flex-direction: column;z-index: 1;position: relative;background-color: white;}#sk-container-id-1 div.sk-parallel-item:first-child::after {align-self: flex-end;width: 50%;}#sk-container-id-1 div.sk-parallel-item:last-child::after {align-self: flex-start;width: 50%;}#sk-container-id-1 div.sk-parallel-item:only-child::after {width: 0;}#sk-container-id-1 div.sk-dashed-wrapped {border: 1px dashed gray;margin: 0 0.4em 0.5em 0.4em;box-sizing: border-box;padding-bottom: 0.4em;background-color: white;}#sk-container-id-1 div.sk-label label {font-family: monospace;font-weight: bold;display: inline-block;line-height: 1.2em;}#sk-container-id-1 div.sk-label-container {text-align: center;}#sk-container-id-1 div.sk-container {/* jupyter's `normalize.less` sets `[hidden] { display: none; }` but bootstrap.min.css set `[hidden] { display: none !important; }` so we also need the `!important` here to be able to override the default hidden behavior on the sphinx rendered scikit-learn.org. See: https://github.com/scikit-learn/scikit-learn/issues/21755 */display: inline-block !important;position: relative;}#sk-container-id-1 div.sk-text-repr-fallback {display: none;}</style><div id=\"sk-container-id-1\" class=\"sk-top-container\"><div class=\"sk-text-repr-fallback\"><pre>LinearRegression()</pre><b>In a Jupyter environment, please rerun this cell to show the HTML representation or trust the notebook. <br />On GitHub, the HTML representation is unable to render, please try loading this page with nbviewer.org.</b></div><div class=\"sk-container\" hidden><div class=\"sk-item\"><div class=\"sk-estimator sk-toggleable\"><input class=\"sk-toggleable__control sk-hidden--visually\" id=\"sk-estimator-id-1\" type=\"checkbox\" checked><label for=\"sk-estimator-id-1\" class=\"sk-toggleable__label sk-toggleable__label-arrow\">LinearRegression</label><div class=\"sk-toggleable__content\"><pre>LinearRegression()</pre></div></div></div></div></div>"
      ],
      "text/plain": [
       "LinearRegression()"
      ]
     },
     "execution_count": 2,
     "metadata": {},
     "output_type": "execute_result"
    }
   ],
   "source": [
    "# Sample data\n",
    "hours_studied = np.array([2, 3, 4, 5, 6, 7]).reshape(-1, 1)\n",
    "scores = np.array([60, 70, 80, 85, 90, 95])\n",
    "\n",
    "model = LinearRegression()\n",
    "model.fit(hours_studied, scores)"
   ]
  },
  {
   "cell_type": "code",
   "execution_count": 3,
   "id": "75f046f8",
   "metadata": {},
   "outputs": [
    {
     "name": "stdout",
     "output_type": "stream",
     "text": [
      "Predicted score for 8 hours of study: 104.0\n"
     ]
    }
   ],
   "source": [
    "# Predict a student's score for 8 hours of study\n",
    "hours_new = np.array([8]).reshape(-1, 1)\n",
    "predicted_score = model.predict(hours_new)\n",
    "print(\"Predicted score for 8 hours of study:\", predicted_score[0])"
   ]
  },
  {
   "cell_type": "code",
   "execution_count": 4,
   "id": "9f7b9978",
   "metadata": {},
   "outputs": [
    {
     "data": {
      "image/png": "[encoded data removed]",
      "text/plain": [
       "<Figure size 640x480 with 1 Axes>"
      ]
     },
     "metadata": {},
     "output_type": "display_data"
    }
   ],
   "source": [
    "# Visualize the data and the fitted line\n",
    "plt.scatter(hours_studied, scores, label='Data')\n",
    "plt.plot(hours_studied, model.predict(hours_studied), color='red', label='Fitted Line')\n",
    "plt.xlabel('Hours Studied')\n",
    "plt.ylabel('Score')\n",
    "plt.legend()\n",
    "plt.show()"
   ]
  },
  {
   "cell_type": "markdown",
   "id": "52b22878",
   "metadata": {},
   "source": [
    "# Multiple Linear Regression"
   ]
  },
  {
   "cell_type": "code",
   "execution_count": 5,
   "id": "fa0916c2",
   "metadata": {},
   "outputs": [
    {
     "data": {
      "text/html": [
       "<style>#sk-container-id-2 {color: black;background-color: white;}#sk-container-id-2 pre{padding: 0;}#sk-container-id-2 div.sk-toggleable {background-color: white;}#sk-container-id-2 label.sk-toggleable__label {cursor: pointer;display: block;width: 100%;margin-bottom: 0;padding: 0.3em;box-sizing: border-box;text-align: center;}#sk-container-id-2 label.sk-toggleable__label-arrow:before {content: \"▸\";float: left;margin-right: 0.25em;color: #696969;}#sk-container-id-2 label.sk-toggleable__label-arrow:hover:before {color: black;}#sk-container-id-2 div.sk-estimator:hover label.sk-toggleable__label-arrow:before {color: black;}#sk-container-id-2 div.sk-toggleable__content {max-height: 0;max-width: 0;overflow: hidden;text-align: left;background-color: #f0f8ff;}#sk-container-id-2 div.sk-toggleable__content pre {margin: 0.2em;color: black;border-radius: 0.25em;background-color: #f0f8ff;}#sk-container-id-2 input.sk-toggleable__control:checked~div.sk-toggleable__content {max-height: 200px;max-width: 100%;overflow: auto;}#sk-container-id-2 input.sk-toggleable__control:checked~label.sk-toggleable__label-arrow:before {content: \"▾\";}#sk-container-id-2 div.sk-estimator input.sk-toggleable__control:checked~label.sk-toggleable__label {background-color: #d4ebff;}#sk-container-id-2 div.sk-label input.sk-toggleable__control:checked~label.sk-toggleable__label {background-color: #d4ebff;}#sk-container-id-2 input.sk-hidden--visually {border: 0;clip: rect(1px 1px 1px 1px);clip: rect(1px, 1px, 1px, 1px);height: 1px;margin: -1px;overflow: hidden;padding: 0;position: absolute;width: 1px;}#sk-container-id-2 div.sk-estimator {font-family: monospace;background-color: #f0f8ff;border: 1px dotted black;border-radius: 0.25em;box-sizing: border-box;margin-bottom: 0.5em;}#sk-container-id-2 div.sk-estimator:hover {background-color: #d4ebff;}#sk-container-id-2 div.sk-parallel-item::after {content: \"\";width: 100%;border-bottom: 1px solid gray;flex-grow: 1;}#sk-container-id-2 div.sk-label:hover label.sk-toggleable__label {background-color: #d4ebff;}#sk-container-id-2 div.sk-serial::before {content: \"\";position: absolute;border-left: 1px solid gray;box-sizing: border-box;top: 0;bottom: 0;left: 50%;z-index: 0;}#sk-container-id-2 div.sk-serial {display: flex;flex-direction: column;align-items: center;background-color: white;padding-right: 0.2em;padding-left: 0.2em;position: relative;}#sk-container-id-2 div.sk-item {position: relative;z-index: 1;}#sk-container-id-2 div.sk-parallel {display: flex;align-items: stretch;justify-content: center;background-color: white;position: relative;}#sk-container-id-2 div.sk-item::before, #sk-container-id-2 div.sk-parallel-item::before {content: \"\";position: absolute;border-left: 1px solid gray;box-sizing: border-box;top: 0;bottom: 0;left: 50%;z-index: -1;}#sk-container-id-2 div.sk-parallel-item {display: flex;flex-direction: column;z-index: 1;position: relative;background-color: white;}#sk-container-id-2 div.sk-parallel-item:first-child::after {align-self: flex-end;width: 50%;}#sk-container-id-2 div.sk-parallel-item:last-child::after {align-self: flex-start;width: 50%;}#sk-container-id-2 div.sk-parallel-item:only-child::after {width: 0;}#sk-container-id-2 div.sk-dashed-wrapped {border: 1px dashed gray;margin: 0 0.4em 0.5em 0.4em;box-sizing: border-box;padding-bottom: 0.4em;background-color: white;}#sk-container-id-2 div.sk-label label {font-family: monospace;font-weight: bold;display: inline-block;line-height: 1.2em;}#sk-container-id-2 div.sk-label-container {text-align: center;}#sk-container-id-2 div.sk-container {/* jupyter's `normalize.less` sets `[hidden] { display: none; }` but bootstrap.min.css set `[hidden] { display: none !important; }` so we also need the `!important` here to be able to override the default hidden behavior on the sphinx rendered scikit-learn.org. See: https://github.com/scikit-learn/scikit-learn/issues/21755 */display: inline-block !important;position: relative;}#sk-container-id-2 div.sk-text-repr-fallback {display: none;}</style><div id=\"sk-container-id-2\" class=\"sk-top-container\"><div class=\"sk-text-repr-fallback\"><pre>LinearRegression()</pre><b>In a Jupyter environment, please rerun this cell to show the HTML representation or trust the notebook. <br />On GitHub, the HTML representation is unable to render, please try loading this page with nbviewer.org.</b></div><div class=\"sk-container\" hidden><div class=\"sk-item\"><div class=\"sk-estimator sk-toggleable\"><input class=\"sk-toggleable__control sk-hidden--visually\" id=\"sk-estimator-id-2\" type=\"checkbox\" checked><label for=\"sk-estimator-id-2\" class=\"sk-toggleable__label sk-toggleable__label-arrow\">LinearRegression</label><div class=\"sk-toggleable__content\"><pre>LinearRegression()</pre></div></div></div></div></div>"
      ],
      "text/plain": [
       "LinearRegression()"
      ]
     },
     "execution_count": 5,
     "metadata": {},
     "output_type": "execute_result"
    }
   ],
   "source": [
    "# Sample data\n",
    "sizes = np.array([1500, 2000, 1800, 2100, 3000, 2500])\n",
    "bedrooms = np.array([3, 4, 3, 4, 5, 4])\n",
    "bathrooms = np.array([2, 3, 2, 3, 4, 3])\n",
    "prices = np.array([250000, 320000, 280000, 340000, 500000, 410000])\n",
    "\n",
    "df = pd.DataFrame(list(zip(sizes,bedrooms,bathrooms,prices)),columns=[\"sizes\",\"bedrooms\",\"bathrooms\",\"prices\"])\n",
    "\n",
    "\n",
    "model = LinearRegression()\n",
    "model.fit(df[[\"sizes\",\"bedrooms\",\"bathrooms\"]], df[\"prices\"])"
   ]
  },
  {
   "cell_type": "code",
   "execution_count": 6,
   "id": "e2000b16",
   "metadata": {},
   "outputs": [
    {
     "name": "stdout",
     "output_type": "stream",
     "text": [
      "Predicted price for the given house features: 359147.72727272735\n"
     ]
    },
    {
     "name": "stderr",
     "output_type": "stream",
     "text": [
      "C:\\ProgramData\\anaconda3\\Lib\\site-packages\\sklearn\\base.py:439: UserWarning: X does not have valid feature names, but LinearRegression was fitted with feature names\n",
      "  warnings.warn(\n"
     ]
    }
   ],
   "source": [
    "# Predict the price for a house with features: size = 2200, bedrooms = 4, bathrooms = 3\n",
    "new_data = np.array([[2200, 4, 3]])\n",
    "predicted_price = model.predict(new_data)\n",
    "print(\"Predicted price for the given house features:\", predicted_price[0])\n"
   ]
  },
  {
   "cell_type": "code",
   "execution_count": 7,
   "id": "40270328",
   "metadata": {},
   "outputs": [
    {
     "data": {
      "image/png": "[encoded data removed]",
      "text/plain": [
       "<Figure size 640x480 with 1 Axes>"
      ]
     },
     "metadata": {},
     "output_type": "display_data"
    }
   ],
   "source": [
    "# Visualize the data and the fitted line\n",
    "plt.scatter(df[\"prices\"],model.predict(df[[\"sizes\",\"bedrooms\",\"bathrooms\"]]), label='Predicted Prices')\n",
    "plt.plot(df[\"prices\"],df[\"prices\"], color='red', label='Actual Prices')\n",
    "plt.xlabel('Hours Studied')\n",
    "plt.ylabel('Score')\n",
    "plt.legend()\n",
    "plt.show()"
   ]
  },
  {
   "cell_type": "code",
   "execution_count": 8,
   "id": "5f785f1b",
   "metadata": {},
   "outputs": [
    {
     "data": {
      "text/html": [
       "<div>\n",
       "<style scoped>\n",
       "    .dataframe tbody tr th:only-of-type {\n",
       "        vertical-align: middle;\n",
       "    }\n",
       "\n",
       "    .dataframe tbody tr th {\n",
       "        vertical-align: top;\n",
       "    }\n",
       "\n",
       "    .dataframe thead th {\n",
       "        text-align: right;\n",
       "    }\n",
       "</style>\n",
       "<table border=\"1\" class=\"dataframe\">\n",
       "  <thead>\n",
       "    <tr style=\"text-align: right;\">\n",
       "      <th></th>\n",
       "      <th>Category</th>\n",
       "      <th>Message</th>\n",
       "    </tr>\n",
       "  </thead>\n",
       "  <tbody>\n",
       "    <tr>\n",
       "      <th>0</th>\n",
       "      <td>0</td>\n",
       "      <td>Go until jurong point, crazy.. Available only ...</td>\n",
       "    </tr>\n",
       "    <tr>\n",
       "      <th>1</th>\n",
       "      <td>0</td>\n",
       "      <td>Ok lar... Joking wif u oni...</td>\n",
       "    </tr>\n",
       "    <tr>\n",
       "      <th>2</th>\n",
       "      <td>1</td>\n",
       "      <td>Free entry in 2 a wkly comp to win FA Cup fina...</td>\n",
       "    </tr>\n",
       "    <tr>\n",
       "      <th>3</th>\n",
       "      <td>0</td>\n",
       "      <td>U dun say so early hor... U c already then say...</td>\n",
       "    </tr>\n",
       "    <tr>\n",
       "      <th>4</th>\n",
       "      <td>0</td>\n",
       "      <td>Nah I don't think he goes to usf, he lives aro...</td>\n",
       "    </tr>\n",
       "  </tbody>\n",
       "</table>\n",
       "</div>"
      ],
      "text/plain": [
       "   Category                                            Message\n",
       "0         0  Go until jurong point, crazy.. Available only ...\n",
       "1         0                      Ok lar... Joking wif u oni...\n",
       "2         1  Free entry in 2 a wkly comp to win FA Cup fina...\n",
       "3         0  U dun say so early hor... U c already then say...\n",
       "4         0  Nah I don't think he goes to usf, he lives aro..."
      ]
     },
     "execution_count": 8,
     "metadata": {},
     "output_type": "execute_result"
    }
   ],
   "source": [
    "df1 = pd.read_csv(\"encoded_emails.csv\")\n",
    "df1.head(5)"
   ]
  },
  {
   "cell_type": "code",
   "execution_count": 9,
   "id": "254e072e",
   "metadata": {},
   "outputs": [],
   "source": [
    "X = df1[\"Message\"]\n",
    "y = df1[\"Category\"]"
   ]
  },
  {
   "cell_type": "code",
   "execution_count": 10,
   "id": "31f60f83",
   "metadata": {},
   "outputs": [],
   "source": [
    "# Text vectorization using TF-IDF\n",
    "vectorizer = TfidfVectorizer()\n",
    "X = vectorizer.fit_transform(X)"
   ]
  },
  {
   "cell_type": "code",
   "execution_count": 11,
   "id": "db8d2271",
   "metadata": {},
   "outputs": [],
   "source": [
    "X_train, X_test, y_train, y_test = train_test_split(X, y, test_size=0.3, random_state=42)"
   ]
  },
  {
   "cell_type": "markdown",
   "id": "11b904a8",
   "metadata": {},
   "source": [
    "# ML Models"
   ]
  },
  {
   "cell_type": "code",
   "execution_count": 12,
   "id": "1afc093a",
   "metadata": {},
   "outputs": [
    {
     "data": {
      "text/html": [
       "<style>#sk-container-id-3 {color: black;background-color: white;}#sk-container-id-3 pre{padding: 0;}#sk-container-id-3 div.sk-toggleable {background-color: white;}#sk-container-id-3 label.sk-toggleable__label {cursor: pointer;display: block;width: 100%;margin-bottom: 0;padding: 0.3em;box-sizing: border-box;text-align: center;}#sk-container-id-3 label.sk-toggleable__label-arrow:before {content: \"▸\";float: left;margin-right: 0.25em;color: #696969;}#sk-container-id-3 label.sk-toggleable__label-arrow:hover:before {color: black;}#sk-container-id-3 div.sk-estimator:hover label.sk-toggleable__label-arrow:before {color: black;}#sk-container-id-3 div.sk-toggleable__content {max-height: 0;max-width: 0;overflow: hidden;text-align: left;background-color: #f0f8ff;}#sk-container-id-3 div.sk-toggleable__content pre {margin: 0.2em;color: black;border-radius: 0.25em;background-color: #f0f8ff;}#sk-container-id-3 input.sk-toggleable__control:checked~div.sk-toggleable__content {max-height: 200px;max-width: 100%;overflow: auto;}#sk-container-id-3 input.sk-toggleable__control:checked~label.sk-toggleable__label-arrow:before {content: \"▾\";}#sk-container-id-3 div.sk-estimator input.sk-toggleable__control:checked~label.sk-toggleable__label {background-color: #d4ebff;}#sk-container-id-3 div.sk-label input.sk-toggleable__control:checked~label.sk-toggleable__label {background-color: #d4ebff;}#sk-container-id-3 input.sk-hidden--visually {border: 0;clip: rect(1px 1px 1px 1px);clip: rect(1px, 1px, 1px, 1px);height: 1px;margin: -1px;overflow: hidden;padding: 0;position: absolute;width: 1px;}#sk-container-id-3 div.sk-estimator {font-family: monospace;background-color: #f0f8ff;border: 1px dotted black;border-radius: 0.25em;box-sizing: border-box;margin-bottom: 0.5em;}#sk-container-id-3 div.sk-estimator:hover {background-color: #d4ebff;}#sk-container-id-3 div.sk-parallel-item::after {content: \"\";width: 100%;border-bottom: 1px solid gray;flex-grow: 1;}#sk-container-id-3 div.sk-label:hover label.sk-toggleable__label {background-color: #d4ebff;}#sk-container-id-3 div.sk-serial::before {content: \"\";position: absolute;border-left: 1px solid gray;box-sizing: border-box;top: 0;bottom: 0;left: 50%;z-index: 0;}#sk-container-id-3 div.sk-serial {display: flex;flex-direction: column;align-items: center;background-color: white;padding-right: 0.2em;padding-left: 0.2em;position: relative;}#sk-container-id-3 div.sk-item {position: relative;z-index: 1;}#sk-container-id-3 div.sk-parallel {display: flex;align-items: stretch;justify-content: center;background-color: white;position: relative;}#sk-container-id-3 div.sk-item::before, #sk-container-id-3 div.sk-parallel-item::before {content: \"\";position: absolute;border-left: 1px solid gray;box-sizing: border-box;top: 0;bottom: 0;left: 50%;z-index: -1;}#sk-container-id-3 div.sk-parallel-item {display: flex;flex-direction: column;z-index: 1;position: relative;background-color: white;}#sk-container-id-3 div.sk-parallel-item:first-child::after {align-self: flex-end;width: 50%;}#sk-container-id-3 div.sk-parallel-item:last-child::after {align-self: flex-start;width: 50%;}#sk-container-id-3 div.sk-parallel-item:only-child::after {width: 0;}#sk-container-id-3 div.sk-dashed-wrapped {border: 1px dashed gray;margin: 0 0.4em 0.5em 0.4em;box-sizing: border-box;padding-bottom: 0.4em;background-color: white;}#sk-container-id-3 div.sk-label label {font-family: monospace;font-weight: bold;display: inline-block;line-height: 1.2em;}#sk-container-id-3 div.sk-label-container {text-align: center;}#sk-container-id-3 div.sk-container {/* jupyter's `normalize.less` sets `[hidden] { display: none; }` but bootstrap.min.css set `[hidden] { display: none !important; }` so we also need the `!important` here to be able to override the default hidden behavior on the sphinx rendered scikit-learn.org. See: https://github.com/scikit-learn/scikit-learn/issues/21755 */display: inline-block !important;position: relative;}#sk-container-id-3 div.sk-text-repr-fallback {display: none;}</style><div id=\"sk-container-id-3\" class=\"sk-top-container\"><div class=\"sk-text-repr-fallback\"><pre>KNeighborsClassifier(n_neighbors=3)</pre><b>In a Jupyter environment, please rerun this cell to show the HTML representation or trust the notebook. <br />On GitHub, the HTML representation is unable to render, please try loading this page with nbviewer.org.</b></div><div class=\"sk-container\" hidden><div class=\"sk-item\"><div class=\"sk-estimator sk-toggleable\"><input class=\"sk-toggleable__control sk-hidden--visually\" id=\"sk-estimator-id-3\" type=\"checkbox\" checked><label for=\"sk-estimator-id-3\" class=\"sk-toggleable__label sk-toggleable__label-arrow\">KNeighborsClassifier</label><div class=\"sk-toggleable__content\"><pre>KNeighborsClassifier(n_neighbors=3)</pre></div></div></div></div></div>"
      ],
      "text/plain": [
       "KNeighborsClassifier(n_neighbors=3)"
      ]
     },
     "execution_count": 12,
     "metadata": {},
     "output_type": "execute_result"
    }
   ],
   "source": [
    "#Logistic Regression\n",
    "lr = LogisticRegression()\n",
    "lr.fit(X_train , y_train)\n",
    "\n",
    "#Support Vector Machine(SVM)\n",
    "svm = SVC()\n",
    "svm.fit(X_train , y_train)\n",
    "\n",
    "#Naive Bayes\n",
    "nb = GaussianNB()\n",
    "nb.fit(X_train.toarray() , y_train)\n",
    "\n",
    "#Decision Tree Classifier\n",
    "dt = DecisionTreeClassifier()\n",
    "dt.fit(X_train.toarray() , y_train)\n",
    "\n",
    "#Random Forest \n",
    "rf = RandomForestClassifier()\n",
    "rf.fit(X_train.toarray() , y_train)\n",
    "\n",
    "#K-Nearest Neighbour (KNN at k=3)\n",
    "knn = KNeighborsClassifier(n_neighbors=3)\n",
    "knn.fit(X_train.toarray() , y_train)"
   ]
  },
  {
   "cell_type": "markdown",
   "id": "33c7f1c4",
   "metadata": {},
   "source": [
    "# Models Accuracies"
   ]
  },
  {
   "cell_type": "code",
   "execution_count": 13,
   "id": "cb3b599c",
   "metadata": {},
   "outputs": [
    {
     "name": "stdout",
     "output_type": "stream",
     "text": [
      "Accuracy of Logistic Regression                : 0.9635167464114832\n",
      "Accuracy of SVM                                : 0.9808612440191388\n",
      "Accuracy of Naive Bayes Classifier             : 0.9102870813397129\n",
      "Accuracy of Decision Tree Classifier           : 0.9736842105263158\n",
      "Accuracy of Random Forest Classifier           : 0.9766746411483254\n",
      "Accuracy of Ada Boost                          : 0.9766746411483254\n",
      "Accuracy of K-Nearest Neighbours (KNN at k=3)  : 0.9222488038277512\n"
     ]
    }
   ],
   "source": [
    "# Make predictions on the test set\n",
    "y_pred = lr.predict(X_test)\n",
    "\n",
    "# Calculate the accuracy of the model\n",
    "accuracy = accuracy_score(y_test, y_pred)\n",
    "print(\"Accuracy of Logistic Regression                :\", accuracy)\n",
    "\n",
    "# Make predictions on the test set\n",
    "y_pred = svm.predict(X_test)\n",
    "\n",
    "# Calculate the accuracy of the model\n",
    "accuracy = accuracy_score(y_test, y_pred)\n",
    "print(\"Accuracy of SVM                                :\", accuracy)\n",
    "\n",
    "# Make predictions on the test set\n",
    "y_pred = nb.predict(X_test.toarray())\n",
    "\n",
    "# Calculate the accuracy of the model\n",
    "accuracy = accuracy_score(y_test, y_pred)\n",
    "print(\"Accuracy of Naive Bayes Classifier             :\", accuracy)\n",
    "\n",
    "# Make predictions on the test set\n",
    "y_pred = dt.predict(X_test.toarray())\n",
    "\n",
    "# Calculate the accuracy of the model\n",
    "accuracy = accuracy_score(y_test, y_pred)\n",
    "print(\"Accuracy of Decision Tree Classifier           :\", accuracy)\n",
    "\n",
    "# Make predictions on the test set\n",
    "y_pred = rf.predict(X_test.toarray())\n",
    "\n",
    "# Calculate the accuracy of the model\n",
    "accuracy = accuracy_score(y_test, y_pred)\n",
    "print(\"Accuracy of Random Forest Classifier           :\", accuracy)\n",
    "\n",
    "\n",
    "\n",
    "# Calculate the accuracy of the model\n",
    "accuracy = accuracy_score(y_test, y_pred)\n",
    "print(\"Accuracy of Ada Boost                          :\", accuracy)\n",
    "\n",
    "# Make predictions on the test set\n",
    "y_pred = knn.predict(X_test.toarray())\n",
    "\n",
    "# Calculate the accuracy of the model\n",
    "accuracy = accuracy_score(y_test, y_pred)\n",
    "print(\"Accuracy of K-Nearest Neighbours (KNN at k=3)  :\", accuracy)\n",
    "\n",
    "\n"
   ]
  },
  {
   "cell_type": "markdown",
   "id": "1168c67f",
   "metadata": {},
   "source": [
    "# Gradient Boosting Techniques"
   ]
  },
  {
   "cell_type": "code",
   "execution_count": 14,
   "id": "d647a075",
   "metadata": {},
   "outputs": [
    {
     "name": "stderr",
     "output_type": "stream",
     "text": [
      "C:\\ProgramData\\anaconda3\\Lib\\site-packages\\sklearn\\ensemble\\_base.py:166: FutureWarning: `base_estimator` was renamed to `estimator` in version 1.2 and will be removed in 1.4.\n",
      "  warnings.warn(\n"
     ]
    },
    {
     "name": "stdout",
     "output_type": "stream",
     "text": [
      "[LightGBM] [Warning] Auto-choosing col-wise multi-threading, the overhead of testing was 0.008642 seconds.\n",
      "You can set `force_col_wise=true` to remove the overhead.\n",
      "Learning rate set to 0.152166\n",
      "0:\tlearn: 0.5336982\ttotal: 270ms\tremaining: 26.7s\n",
      "1:\tlearn: 0.4271861\ttotal: 310ms\tremaining: 15.2s\n",
      "2:\tlearn: 0.3560125\ttotal: 349ms\tremaining: 11.3s\n",
      "3:\tlearn: 0.3029378\ttotal: 391ms\tremaining: 9.38s\n",
      "4:\tlearn: 0.2603002\ttotal: 430ms\tremaining: 8.17s\n",
      "5:\tlearn: 0.2364007\ttotal: 468ms\tremaining: 7.33s\n",
      "6:\tlearn: 0.2134595\ttotal: 507ms\tremaining: 6.74s\n",
      "7:\tlearn: 0.1957810\ttotal: 544ms\tremaining: 6.26s\n",
      "8:\tlearn: 0.1822947\ttotal: 582ms\tremaining: 5.89s\n",
      "9:\tlearn: 0.1683614\ttotal: 620ms\tremaining: 5.58s\n",
      "10:\tlearn: 0.1610274\ttotal: 658ms\tremaining: 5.33s\n",
      "11:\tlearn: 0.1529592\ttotal: 696ms\tremaining: 5.1s\n",
      "12:\tlearn: 0.1457076\ttotal: 734ms\tremaining: 4.91s\n",
      "13:\tlearn: 0.1393862\ttotal: 775ms\tremaining: 4.76s\n",
      "14:\tlearn: 0.1333184\ttotal: 811ms\tremaining: 4.6s\n",
      "15:\tlearn: 0.1291421\ttotal: 848ms\tremaining: 4.45s\n",
      "16:\tlearn: 0.1252931\ttotal: 886ms\tremaining: 4.33s\n",
      "17:\tlearn: 0.1192121\ttotal: 930ms\tremaining: 4.24s\n",
      "18:\tlearn: 0.1165899\ttotal: 977ms\tremaining: 4.16s\n",
      "19:\tlearn: 0.1132928\ttotal: 1.02s\tremaining: 4.08s\n",
      "20:\tlearn: 0.1117269\ttotal: 1.06s\tremaining: 4s\n",
      "21:\tlearn: 0.1081874\ttotal: 1.11s\tremaining: 3.92s\n",
      "22:\tlearn: 0.1048734\ttotal: 1.15s\tremaining: 3.85s\n",
      "23:\tlearn: 0.1008293\ttotal: 1.19s\tremaining: 3.77s\n",
      "24:\tlearn: 0.0999654\ttotal: 1.23s\tremaining: 3.69s\n",
      "25:\tlearn: 0.0988833\ttotal: 1.27s\tremaining: 3.6s\n",
      "26:\tlearn: 0.0968361\ttotal: 1.3s\tremaining: 3.52s\n",
      "27:\tlearn: 0.0954064\ttotal: 1.34s\tremaining: 3.45s\n",
      "28:\tlearn: 0.0942783\ttotal: 1.38s\tremaining: 3.38s\n",
      "29:\tlearn: 0.0935534\ttotal: 1.42s\tremaining: 3.31s\n",
      "30:\tlearn: 0.0918593\ttotal: 1.46s\tremaining: 3.24s\n",
      "31:\tlearn: 0.0904621\ttotal: 1.49s\tremaining: 3.17s\n",
      "32:\tlearn: 0.0896703\ttotal: 1.53s\tremaining: 3.1s\n",
      "33:\tlearn: 0.0892477\ttotal: 1.57s\tremaining: 3.04s\n",
      "34:\tlearn: 0.0872013\ttotal: 1.6s\tremaining: 2.98s\n",
      "35:\tlearn: 0.0866898\ttotal: 1.64s\tremaining: 2.92s\n",
      "36:\tlearn: 0.0861052\ttotal: 1.68s\tremaining: 2.86s\n",
      "37:\tlearn: 0.0846118\ttotal: 1.72s\tremaining: 2.81s\n",
      "38:\tlearn: 0.0842261\ttotal: 1.76s\tremaining: 2.75s\n",
      "39:\tlearn: 0.0838005\ttotal: 1.8s\tremaining: 2.69s\n",
      "40:\tlearn: 0.0818654\ttotal: 1.83s\tremaining: 2.64s\n",
      "41:\tlearn: 0.0814620\ttotal: 1.87s\tremaining: 2.59s\n",
      "42:\tlearn: 0.0810897\ttotal: 1.91s\tremaining: 2.53s\n",
      "43:\tlearn: 0.0805896\ttotal: 1.95s\tremaining: 2.48s\n",
      "44:\tlearn: 0.0799136\ttotal: 1.99s\tremaining: 2.44s\n",
      "45:\tlearn: 0.0794475\ttotal: 2.03s\tremaining: 2.39s\n",
      "46:\tlearn: 0.0789984\ttotal: 2.07s\tremaining: 2.33s\n",
      "47:\tlearn: 0.0784789\ttotal: 2.11s\tremaining: 2.28s\n",
      "48:\tlearn: 0.0780572\ttotal: 2.15s\tremaining: 2.23s\n",
      "49:\tlearn: 0.0776098\ttotal: 2.19s\tremaining: 2.19s\n",
      "50:\tlearn: 0.0771676\ttotal: 2.22s\tremaining: 2.14s\n",
      "51:\tlearn: 0.0747384\ttotal: 2.26s\tremaining: 2.09s\n",
      "52:\tlearn: 0.0743325\ttotal: 2.3s\tremaining: 2.04s\n",
      "53:\tlearn: 0.0723342\ttotal: 2.34s\tremaining: 1.99s\n",
      "54:\tlearn: 0.0718688\ttotal: 2.37s\tremaining: 1.94s\n",
      "55:\tlearn: 0.0714795\ttotal: 2.41s\tremaining: 1.9s\n",
      "56:\tlearn: 0.0709952\ttotal: 2.45s\tremaining: 1.85s\n",
      "57:\tlearn: 0.0704435\ttotal: 2.49s\tremaining: 1.8s\n",
      "58:\tlearn: 0.0697522\ttotal: 2.52s\tremaining: 1.75s\n",
      "59:\tlearn: 0.0692939\ttotal: 2.56s\tremaining: 1.71s\n",
      "60:\tlearn: 0.0688541\ttotal: 2.6s\tremaining: 1.66s\n",
      "61:\tlearn: 0.0684549\ttotal: 2.64s\tremaining: 1.62s\n",
      "62:\tlearn: 0.0680702\ttotal: 2.67s\tremaining: 1.57s\n",
      "63:\tlearn: 0.0665010\ttotal: 2.71s\tremaining: 1.53s\n",
      "64:\tlearn: 0.0661315\ttotal: 2.75s\tremaining: 1.48s\n",
      "65:\tlearn: 0.0651410\ttotal: 2.79s\tremaining: 1.44s\n",
      "66:\tlearn: 0.0647853\ttotal: 2.83s\tremaining: 1.39s\n",
      "67:\tlearn: 0.0644566\ttotal: 2.87s\tremaining: 1.35s\n",
      "68:\tlearn: 0.0638736\ttotal: 2.9s\tremaining: 1.3s\n",
      "69:\tlearn: 0.0635525\ttotal: 2.94s\tremaining: 1.26s\n",
      "70:\tlearn: 0.0616165\ttotal: 2.98s\tremaining: 1.22s\n",
      "71:\tlearn: 0.0613003\ttotal: 3.02s\tremaining: 1.17s\n",
      "72:\tlearn: 0.0609992\ttotal: 3.06s\tremaining: 1.13s\n",
      "73:\tlearn: 0.0606189\ttotal: 3.1s\tremaining: 1.09s\n",
      "74:\tlearn: 0.0603379\ttotal: 3.13s\tremaining: 1.04s\n",
      "75:\tlearn: 0.0590001\ttotal: 3.17s\tremaining: 1s\n",
      "76:\tlearn: 0.0587315\ttotal: 3.21s\tremaining: 959ms\n",
      "77:\tlearn: 0.0573341\ttotal: 3.25s\tremaining: 916ms\n",
      "78:\tlearn: 0.0568866\ttotal: 3.29s\tremaining: 873ms\n",
      "79:\tlearn: 0.0558231\ttotal: 3.32s\tremaining: 831ms\n",
      "80:\tlearn: 0.0555578\ttotal: 3.36s\tremaining: 788ms\n",
      "81:\tlearn: 0.0553111\ttotal: 3.4s\tremaining: 746ms\n",
      "82:\tlearn: 0.0550428\ttotal: 3.44s\tremaining: 704ms\n",
      "83:\tlearn: 0.0533445\ttotal: 3.48s\tremaining: 662ms\n",
      "84:\tlearn: 0.0528081\ttotal: 3.51s\tremaining: 620ms\n",
      "85:\tlearn: 0.0525734\ttotal: 3.55s\tremaining: 578ms\n",
      "86:\tlearn: 0.0517311\ttotal: 3.59s\tremaining: 536ms\n",
      "87:\tlearn: 0.0515095\ttotal: 3.63s\tremaining: 495ms\n",
      "88:\tlearn: 0.0511398\ttotal: 3.66s\tremaining: 453ms\n",
      "89:\tlearn: 0.0498771\ttotal: 3.7s\tremaining: 411ms\n",
      "90:\tlearn: 0.0496586\ttotal: 3.74s\tremaining: 370ms\n",
      "91:\tlearn: 0.0494493\ttotal: 3.78s\tremaining: 329ms\n",
      "92:\tlearn: 0.0481708\ttotal: 3.82s\tremaining: 287ms\n",
      "93:\tlearn: 0.0479690\ttotal: 3.85s\tremaining: 246ms\n",
      "94:\tlearn: 0.0475720\ttotal: 3.89s\tremaining: 205ms\n",
      "95:\tlearn: 0.0473793\ttotal: 3.93s\tremaining: 164ms\n",
      "96:\tlearn: 0.0471277\ttotal: 3.97s\tremaining: 123ms\n",
      "97:\tlearn: 0.0465792\ttotal: 4.01s\tremaining: 81.8ms\n",
      "98:\tlearn: 0.0463893\ttotal: 4.04s\tremaining: 40.9ms\n",
      "99:\tlearn: 0.0462141\ttotal: 4.08s\tremaining: 0us\n"
     ]
    },
    {
     "data": {
      "text/plain": [
       "<catboost.core.CatBoostClassifier at 0x229a0596810>"
      ]
     },
     "execution_count": 14,
     "metadata": {},
     "output_type": "execute_result"
    }
   ],
   "source": [
    "#Ada Boost\n",
    "weak_learner = DecisionTreeClassifier(max_depth=1)\n",
    "ada_classifier = AdaBoostClassifier(base_estimator=weak_learner, n_estimators=50, random_state=42)\n",
    "ada_classifier.fit(X_train, y_train)\n",
    "\n",
    "#Light Gradient Boosting (lighbm)\n",
    "# Create the LightGBM dataset\n",
    "train_data = lgb.Dataset(X_train, label=y_train)\n",
    "# Set hyperparameters\n",
    "params = {\n",
    "    'objective': 'binary',\n",
    "    'metric': 'binary_logloss',\n",
    "    'boosting_type': 'gbdt',\n",
    "    'num_leaves': 31,\n",
    "    'learning_rate': 0.05,\n",
    "    'feature_fraction': 0.9,\n",
    "    'bagging_fraction': 0.8,\n",
    "    'bagging_freq': 5,\n",
    "    'verbose': 0\n",
    "}\n",
    "# Train the LightGBM model\n",
    "num_rounds = 100\n",
    "lgb_model = lgb.train(params, train_data, num_boost_round=num_rounds)\n",
    "\n",
    "\n",
    "# XGBoost classifier\n",
    "xgb_classifier = xgb.XGBClassifier(n_estimators=100, random_state=42)\n",
    "xgb_classifier.fit(X_train, y_train)\n",
    "\n",
    "# CatBoost classifier\n",
    "catboost_classifier = CatBoostClassifier(iterations=100, random_state=42)\n",
    "catboost_classifier.fit(X_train, y_train)\n",
    "\n"
   ]
  },
  {
   "cell_type": "code",
   "execution_count": 15,
   "id": "ca30a657",
   "metadata": {},
   "outputs": [
    {
     "name": "stdout",
     "output_type": "stream",
     "text": [
      "Accuracy of Lightbm                            : 0.9222488038277512\n",
      "Accuracy of Ada Boost                          : 0.979066985645933\n",
      "Accuracy of XGboost                            : 0.9832535885167464\n",
      "Accuracy of Catboost                           : 0.9772727272727273\n"
     ]
    }
   ],
   "source": [
    "# Convert probabilities to binary predictions\n",
    "y_pred_binary = [1 if pred >= 0.5 else 0 for pred in y_pred]\n",
    "# Calculate the accuracy of the model\n",
    "accuracy = accuracy_score(y_test, y_pred_binary)\n",
    "print(\"Accuracy of Lightbm                            :\", accuracy)\n",
    "\n",
    "# Make predictions on the test set\n",
    "y_pred = ada_classifier.predict(X_test.toarray())\n",
    "# Calculate the accuracy of the model\n",
    "accuracy = accuracy_score(y_test, y_pred)\n",
    "print(\"Accuracy of Ada Boost                          :\", accuracy)\n",
    "\n",
    "\n",
    "# Make predictions on the test set\n",
    "y_pred = xgb_classifier.predict(X_test)\n",
    "# Calculate the accuracy of the model\n",
    "accuracy = accuracy_score(y_test, y_pred)\n",
    "print(\"Accuracy of XGboost                            :\", accuracy)\n",
    "\n",
    "\n",
    "# Make predictions on the test set\n",
    "y_pred = catboost_classifier.predict(X_test)\n",
    "# Calculate the accuracy of the model\n",
    "accuracy = accuracy_score(y_test, y_pred)\n",
    "print(\"Accuracy of Catboost                           :\", accuracy)"
   ]
  },
  {
   "cell_type": "markdown",
   "id": "37e48951",
   "metadata": {},
   "source": [
    "# Neural Networks"
   ]
  },
  {
   "cell_type": "code",
   "execution_count": 16,
   "id": "521845b6",
   "metadata": {},
   "outputs": [],
   "source": [
    "from keras.models import Sequential\n",
    "from keras.layers import Dense"
   ]
  },
  {
   "cell_type": "code",
   "execution_count": 17,
   "id": "81e604e4",
   "metadata": {},
   "outputs": [],
   "source": [
    "# Determine the input shape based on the training data\n",
    "input_shape = X_train.shape[1:]"
   ]
  },
  {
   "cell_type": "code",
   "execution_count": 18,
   "id": "570f5e93",
   "metadata": {},
   "outputs": [
    {
     "data": {
      "text/plain": [
       "(8709,)"
      ]
     },
     "execution_count": 18,
     "metadata": {},
     "output_type": "execute_result"
    }
   ],
   "source": [
    "input_shape"
   ]
  },
  {
   "cell_type": "code",
   "execution_count": 19,
   "id": "ce01f207",
   "metadata": {},
   "outputs": [],
   "source": [
    "model = Sequential()"
   ]
  },
  {
   "cell_type": "code",
   "execution_count": 20,
   "id": "34f7510f",
   "metadata": {},
   "outputs": [],
   "source": [
    "model.add(Dense(10, input_shape=input_shape, activation='relu'))\n",
    "\n",
    "model.add(Dense(20,  activation='relu'))\n",
    "model.add(Dense(20,  activation='relu'))\n",
    "\n",
    "model.add(Dense(1, activation='sigmoid'))\n"
   ]
  },
  {
   "cell_type": "code",
   "execution_count": 21,
   "id": "f716cf7d",
   "metadata": {},
   "outputs": [],
   "source": [
    "model.compile(loss = 'binary_crossentropy' , optimizer='adam' , metrics = ['accuracy'])"
   ]
  },
  {
   "cell_type": "code",
   "execution_count": 22,
   "id": "0036f80c",
   "metadata": {},
   "outputs": [
    {
     "name": "stdout",
     "output_type": "stream",
     "text": [
      "Epoch 1/10\n",
      "122/122 [==============================] - 1s 3ms/step - loss: 0.4870 - accuracy: 0.8623\n",
      "Epoch 2/10\n",
      "122/122 [==============================] - 0s 3ms/step - loss: 0.1225 - accuracy: 0.9500\n",
      "Epoch 3/10\n",
      "122/122 [==============================] - 0s 3ms/step - loss: 0.0260 - accuracy: 0.9938\n",
      "Epoch 4/10\n",
      "122/122 [==============================] - 0s 3ms/step - loss: 0.0083 - accuracy: 0.9977\n",
      "Epoch 5/10\n",
      "122/122 [==============================] - 0s 3ms/step - loss: 0.0035 - accuracy: 0.9992\n",
      "Epoch 6/10\n",
      "122/122 [==============================] - 0s 3ms/step - loss: 0.0017 - accuracy: 0.9997\n",
      "Epoch 7/10\n",
      "122/122 [==============================] - 0s 3ms/step - loss: 9.3507e-04 - accuracy: 1.0000\n",
      "Epoch 8/10\n",
      "122/122 [==============================] - 0s 3ms/step - loss: 6.0951e-04 - accuracy: 1.0000\n",
      "Epoch 9/10\n",
      "122/122 [==============================] - 0s 3ms/step - loss: 4.3592e-04 - accuracy: 1.0000\n",
      "Epoch 10/10\n",
      "122/122 [==============================] - 0s 3ms/step - loss: 3.2871e-04 - accuracy: 1.0000\n"
     ]
    }
   ],
   "source": [
    "show = model.fit(X_train.toarray() , y_train , epochs=10 , batch_size = 32)"
   ]
  },
  {
   "cell_type": "code",
   "execution_count": 23,
   "id": "c88d6bee",
   "metadata": {},
   "outputs": [
    {
     "data": {
      "image/png": "[encoded data removed]",
      "text/plain": [
       "<Figure size 1000x500 with 2 Axes>"
      ]
     },
     "metadata": {},
     "output_type": "display_data"
    }
   ],
   "source": [
    "# Plot the accuracy and loss graphs\n",
    "plt.figure(figsize=(10, 5))\n",
    "\n",
    "# Accuracy graph\n",
    "plt.subplot(1, 2, 1)\n",
    "plt.plot(show.history['accuracy'], label='Training Accuracy')\n",
    "# plt.plot(show.history['val_accuracy'], label='Validation Accuracy')\n",
    "plt.xlabel('Epoch')\n",
    "plt.ylabel('Accuracy')\n",
    "plt.legend()\n",
    "\n",
    "# Loss graph\n",
    "plt.subplot(1, 2, 2)\n",
    "plt.plot(show.history['loss'], label='Training Loss')\n",
    "# plt.plot(show.history['val_loss'], label='Validation Loss')\n",
    "plt.xlabel('Epoch')\n",
    "plt.ylabel('Loss')\n",
    "plt.legend()\n",
    "\n",
    "plt.tight_layout()\n",
    "plt.show()"
   ]
  },
  {
   "cell_type": "code",
   "execution_count": null,
   "id": "5175d6c7",
   "metadata": {},
   "outputs": [],
   "source": []
  },
  {
   "cell_type": "code",
   "execution_count": null,
   "id": "a530078a",
   "metadata": {},
   "outputs": [],
   "source": []
  }
 ],
 "metadata": {
  "kernelspec": {
   "display_name": "Python 3 (ipykernel)",
   "language": "python",
   "name": "python3"
  },
  "language_info": {
   "codemirror_mode": {
    "name": "ipython",
    "version": 3
   },
   "file_extension": ".py",
   "mimetype": "text/x-python",
   "name": "python",
   "nbconvert_exporter": "python",
   "pygments_lexer": "ipython3",
   "version": "3.11.3"
  }
 },
 "nbformat": 4,
 "nbformat_minor": 5
}
